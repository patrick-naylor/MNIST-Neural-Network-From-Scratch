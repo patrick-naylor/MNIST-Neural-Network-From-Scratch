{
 "cells": [
  {
   "cell_type": "code",
   "execution_count": 49,
   "metadata": {},
   "outputs": [],
   "source": [
    "from mnist import MNIST\n",
    "from matplotlib import pyplot as plt\n",
    "import numpy as np"
   ]
  },
  {
   "cell_type": "code",
   "execution_count": 50,
   "metadata": {},
   "outputs": [],
   "source": [
    "from keras.datasets import mnist"
   ]
  },
  {
   "cell_type": "code",
   "execution_count": 417,
   "metadata": {},
   "outputs": [
    {
     "name": "stdout",
     "output_type": "stream",
     "text": [
      "60000\n"
     ]
    }
   ],
   "source": [
    "(train_X, train_y), (test_X, test_y) = mnist.load_data()\n",
    "train_X = np.reshape(train_X, (60000, 784))\n",
    "test_X = np.reshape(test_X, (10000, 784))\n",
    "m, n = train_X.shape\n",
    "train_X = train_X.T\n",
    "test_X = test_X.T\n",
    "print(m)"
   ]
  },
  {
   "cell_type": "code",
   "execution_count": 377,
   "metadata": {},
   "outputs": [
    {
     "name": "stdout",
     "output_type": "stream",
     "text": [
      "<class 'numpy.dtype[float64]'>\n"
     ]
    }
   ],
   "source": [
    "print(type(train_X.dtype))"
   ]
  },
  {
   "cell_type": "code",
   "execution_count": 52,
   "metadata": {
    "scrolled": true
   },
   "outputs": [
    {
     "name": "stdout",
     "output_type": "stream",
     "text": [
      "X_train: (784, 60000)\n",
      "Y_train: (60000,)\n",
      "X_test: (784, 10000)\n",
      "Y_test: (10000,)\n"
     ]
    }
   ],
   "source": [
    "print('X_train: ' + str(train_X.shape))\n",
    "print('Y_train: ' + str(train_y.shape))\n",
    "print('X_test: ' + str(test_X.shape))\n",
    "print('Y_test: ' + str(test_y.shape))\n"
   ]
  },
  {
   "cell_type": "code",
   "execution_count": 174,
   "metadata": {},
   "outputs": [
    {
     "name": "stdout",
     "output_type": "stream",
     "text": [
      "[1.0000001]\n"
     ]
    }
   ],
   "source": []
  },
  {
   "cell_type": "code",
   "execution_count": 488,
   "metadata": {},
   "outputs": [],
   "source": [
    "def init_params():\n",
    "    W1 = np.random.rand(128, 784) - 0.5\n",
    "    b1 = np.random.rand(128, 1) - 0.5\n",
    "    W2 = np.random.rand(64, 128) - 0.5\n",
    "    b2 = np.random.rand(64, 1) - 0.5\n",
    "    W3 = np.random.rand(10, 64) - 0.5\n",
    "    b3 = np.random.rand(10, 1,) - 0.5\n",
    "    return  W1, b1, W2, b2, W3, b3\n",
    "\n",
    "def Sigmoid(Z):\n",
    "    return 1/(1+np.exp(-Z))\n",
    "\n",
    "def softmax(Z):\n",
    "    A = np.exp(Z) / sum(np.exp(Z))\n",
    "    return A\n",
    "\n",
    "\n",
    "\n",
    "def forward_prop(W1, b1, W2, b2, W3, b3, X):\n",
    "    Z1 = np.dot(W1, X) + b1\n",
    "    #print(W1)\n",
    "    A1 = Sigmoid(Z1)\n",
    "    #print(A1.shape)\n",
    "    Z2 = np.dot(W2, A1) + b2\n",
    "    A2 = Sigmoid(Z2)\n",
    "    Z3 = np.dot(W3, A2) + b3\n",
    "    #print(A2.max())\n",
    "    #print(W3.max())\n",
    "    #print(np.count_nonzero(np.isnan(Z3)))\n",
    "    A3 = softmax(Z3)\n",
    "    #print(A3.max())\n",
    "    #print(A3.min())\n",
    "    #print(np.count_nonzero(np.isnan(A3)))\n",
    "    #print(A3.shape)\n",
    "    #print(A3)\n",
    "    return(Z1, A1, Z2, A2, Z3, A3)\n",
    "\n",
    "def Sigmoid_deriv(Z):\n",
    "    dsig = (np.exp(-Z))/((np.exp(-Z)+1)**2)\n",
    "    dsig = np.nan_to_num(dsig)\n",
    "    #print(dsig)\n",
    "    return dsig\n",
    "\n",
    "def one_hot(Y):\n",
    "    one_hot_Y = np.zeros((Y.size, Y.max() + 1))\n",
    "    one_hot_Y[np.arange(Y.size), Y] = 1\n",
    "    one_hot_Y = one_hot_Y.T\n",
    "    return one_hot_Y\n",
    "\n",
    "def backward_prop(Z1, A1, Z2, A2, Z3, A3, W1, W2, W3, X, Y):\n",
    "    one_hot_Y = one_hot(Y)\n",
    "    dZ3 = A3 - one_hot_Y\n",
    "    #print(A3.max())\n",
    "    dW3 = 1/m * dZ3.dot(A2.T)\n",
    "    #print(dW3)\n",
    "    db3 = 1/m * np.sum(dZ3)\n",
    "    dZ2 = W3.T.dot(dZ3) * Sigmoid_deriv(Z2)\n",
    "    #print(d2)\n",
    "    dW2 = 1/m * dZ2.dot(A1.T)\n",
    "    #print(dW2)\n",
    "    db2 = 1/m * np.sum(dZ2)\n",
    "    dZ1 = W2.T.dot(dZ2) * Sigmoid_deriv(Z1)\n",
    "    #print(Sigmoid_deriv(Z1))\n",
    "    #print('Hi')\n",
    "    #print(Z1)\n",
    "    dW1 = 1/m * dZ1.dot(X.T)\n",
    "    #print(dW1)\n",
    "    #zprint(dZ1)\n",
    "    db1 = 1/m * np.sum(dZ1)  \n",
    "    return(dW1, db1, dW2, db2, dW3, db3)\n",
    "\n",
    "def update_params(W1, b1, W2, b2, W3, b3, dW1, db1, dW2, db2, dW3, db3, alpha):\n",
    "    #print(W1)\n",
    "    W1 = W1 - alpha * dW1\n",
    "    b1 = b1 - alpha * db1\n",
    "    W2 = W2 - alpha * dW2\n",
    "    b2 = b2 - alpha * db2\n",
    "    W3 = W3 - alpha * dW3\n",
    "    b3 = b3 - alpha * db3\n",
    "    #print(dW1)\n",
    "    #print(dW1, dW2, dW3)\n",
    "    return W1, b1, W2, b2, W3, b3"
   ]
  },
  {
   "cell_type": "code",
   "execution_count": 433,
   "metadata": {},
   "outputs": [],
   "source": [
    "def get_predictions(A3):\n",
    "    #print(A3)\n",
    "    return np.argmax(A3,0)\n",
    "    \n",
    "\n",
    "def get_accuracy(predictions, Y):\n",
    "    #Clean\n",
    "    print(predictions, Y)\n",
    "    return np.sum(predictions == Y)/ Y.size"
   ]
  },
  {
   "cell_type": "code",
   "execution_count": 461,
   "metadata": {},
   "outputs": [],
   "source": [
    "def gradient_decent(X, Y, alpha, iterations):\n",
    "    W1, b1, W2, b2, W3, b3 = init_params()\n",
    "    for i in range(iterations):\n",
    "        Z1, A1, Z2, A2, Z3, A3 = forward_prop(W1, b1, W2, b2, W3, b3, X)\n",
    "        dW1, db1, dW2, db2, dW3, db3 = backward_prop(Z1, A1, Z2, A2, Z3, A3, W1, W2, W3, X, Y)\n",
    "        W1, b1, W2, b2, W3, b3 = update_params(W1, b1, W2, b2, W3, b3, dW1, db1, dW2, db2, dW3, db3, alpha)\n",
    "        if i % 10 == 0:\n",
    "            print(\"Iteration: \", i)\n",
    "            predictions = get_predictions(A3)\n",
    "            print(get_accuracy(predictions, Y))\n",
    "    return W1, b1, W2, b2, W3, b3"
   ]
  },
  {
   "cell_type": "code",
   "execution_count": null,
   "metadata": {
    "scrolled": false
   },
   "outputs": [
    {
     "name": "stderr",
     "output_type": "stream",
     "text": [
      "<ipython-input-488-9ed320554a9e>:11: RuntimeWarning: overflow encountered in exp\n",
      "  return 1/(1+np.exp(-Z))\n",
      "<ipython-input-488-9ed320554a9e>:39: RuntimeWarning: overflow encountered in exp\n",
      "  dsig = (np.exp(-Z))/((np.exp(-Z)+1)**2)\n",
      "<ipython-input-488-9ed320554a9e>:39: RuntimeWarning: overflow encountered in square\n",
      "  dsig = (np.exp(-Z))/((np.exp(-Z)+1)**2)\n",
      "<ipython-input-488-9ed320554a9e>:39: RuntimeWarning: invalid value encountered in divide\n",
      "  dsig = (np.exp(-Z))/((np.exp(-Z)+1)**2)\n"
     ]
    },
    {
     "name": "stdout",
     "output_type": "stream",
     "text": [
      "Iteration:  0\n",
      "[6 0 0 ... 7 7 7] [5 0 4 ... 5 6 8]\n",
      "0.06528333333333333\n",
      "Iteration:  10\n",
      "[3 0 1 ... 7 0 8] [5 0 4 ... 5 6 8]\n",
      "0.5614166666666667\n",
      "Iteration:  20\n",
      "[3 0 4 ... 7 0 8] [5 0 4 ... 5 6 8]\n",
      "0.7097833333333333\n",
      "Iteration:  30\n",
      "[3 0 4 ... 7 0 8] [5 0 4 ... 5 6 8]\n",
      "0.7660166666666667\n",
      "Iteration:  40\n",
      "[3 0 4 ... 5 6 8] [5 0 4 ... 5 6 8]\n",
      "0.8009666666666667\n",
      "Iteration:  50\n",
      "[3 0 4 ... 5 6 8] [5 0 4 ... 5 6 8]\n",
      "0.8232333333333334\n",
      "Iteration:  60\n",
      "[3 0 4 ... 5 6 8] [5 0 4 ... 5 6 8]\n",
      "0.8382833333333334\n",
      "Iteration:  70\n",
      "[3 0 4 ... 5 6 8] [5 0 4 ... 5 6 8]\n",
      "0.849\n",
      "Iteration:  80\n",
      "[3 0 4 ... 5 6 8] [5 0 4 ... 5 6 8]\n",
      "0.8585333333333334\n",
      "Iteration:  90\n",
      "[3 0 4 ... 5 6 8] [5 0 4 ... 5 6 8]\n",
      "0.8652166666666666\n",
      "Iteration:  100\n",
      "[3 0 4 ... 5 6 8] [5 0 4 ... 5 6 8]\n",
      "0.87175\n",
      "Iteration:  110\n",
      "[3 0 4 ... 5 6 8] [5 0 4 ... 5 6 8]\n",
      "0.8775666666666667\n",
      "Iteration:  120\n",
      "[3 0 4 ... 5 6 8] [5 0 4 ... 5 6 8]\n",
      "0.8807166666666667\n",
      "Iteration:  130\n",
      "[3 0 4 ... 5 6 8] [5 0 4 ... 5 6 8]\n",
      "0.8854\n",
      "Iteration:  140\n",
      "[3 0 4 ... 5 6 8] [5 0 4 ... 5 6 8]\n",
      "0.8893666666666666\n",
      "Iteration:  150\n",
      "[3 0 4 ... 5 6 8] [5 0 4 ... 5 6 8]\n",
      "0.8922\n",
      "Iteration:  160\n",
      "[3 0 4 ... 5 6 8] [5 0 4 ... 5 6 8]\n",
      "0.8961666666666667\n",
      "Iteration:  170\n",
      "[3 0 4 ... 5 6 8] [5 0 4 ... 5 6 8]\n",
      "0.8984833333333333\n"
     ]
    }
   ],
   "source": [
    "W1, b1, W2, b2, W3, b3 = gradient_decent(train_X, train_y, 1, 500)"
   ]
  },
  {
   "cell_type": "code",
   "execution_count": 482,
   "metadata": {},
   "outputs": [
    {
     "ename": "NameError",
     "evalue": "name 'Z3' is not defined",
     "output_type": "error",
     "traceback": [
      "\u001b[1;31m---------------------------------------------------------------------------\u001b[0m",
      "\u001b[1;31mNameError\u001b[0m                                 Traceback (most recent call last)",
      "\u001b[1;32m<ipython-input-482-56e45cc8880c>\u001b[0m in \u001b[0;36m<module>\u001b[1;34m\u001b[0m\n\u001b[1;32m----> 1\u001b[1;33m \u001b[0mprint\u001b[0m\u001b[1;33m(\u001b[0m\u001b[0msoftmax\u001b[0m\u001b[1;33m(\u001b[0m\u001b[0mZ3\u001b[0m\u001b[1;33m)\u001b[0m\u001b[1;33m)\u001b[0m\u001b[1;33m\u001b[0m\u001b[1;33m\u001b[0m\u001b[0m\n\u001b[0m",
      "\u001b[1;31mNameError\u001b[0m: name 'Z3' is not defined"
     ]
    }
   ],
   "source": []
  }
 ],
 "metadata": {
  "kernelspec": {
   "display_name": "Python 3",
   "language": "python",
   "name": "python3"
  },
  "language_info": {
   "codemirror_mode": {
    "name": "ipython",
    "version": 3
   },
   "file_extension": ".py",
   "mimetype": "text/x-python",
   "name": "python",
   "nbconvert_exporter": "python",
   "pygments_lexer": "ipython3",
   "version": "3.8.3"
  }
 },
 "nbformat": 4,
 "nbformat_minor": 4
}
