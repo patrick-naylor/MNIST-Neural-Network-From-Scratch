{
 "cells": [
  {
   "cell_type": "code",
   "execution_count": 1,
   "metadata": {},
   "outputs": [],
   "source": [
    "from mnist import MNIST\n",
    "from matplotlib import pyplot as plt\n",
    "import numpy as np"
   ]
  },
  {
   "cell_type": "code",
   "execution_count": 2,
   "metadata": {},
   "outputs": [],
   "source": [
    "from keras.datasets import mnist"
   ]
  },
  {
   "cell_type": "code",
   "execution_count": 3,
   "metadata": {},
   "outputs": [
    {
     "name": "stdout",
     "output_type": "stream",
     "text": [
      "60000\n"
     ]
    }
   ],
   "source": [
    "(train_X, train_y), (test_X, test_y) = mnist.load_data()\n",
    "train_X = np.reshape(train_X, (60000, 784))\n",
    "test_X = np.reshape(test_X, (10000, 784))\n",
    "m, n = train_X.shape\n",
    "train_X = train_X.T\n",
    "test_X = test_X.T\n",
    "print(m)"
   ]
  },
  {
   "cell_type": "code",
   "execution_count": 11,
   "metadata": {},
   "outputs": [
    {
     "name": "stdout",
     "output_type": "stream",
     "text": [
      "(784, 10000)\n"
     ]
    }
   ],
   "source": [
    "print(test_X.shape)"
   ]
  },
  {
   "cell_type": "code",
   "execution_count": 4,
   "metadata": {},
   "outputs": [],
   "source": [
    "def init_params():\n",
    "    W1 = np.random.rand(72, 784) - 0.5\n",
    "    b1 = np.random.rand(72, 1) - 0.5\n",
    "    W2 = np.random.rand(36, 72) - 0.5\n",
    "    b2 = np.random.rand(36, 1) - 0.5\n",
    "    W3 = np.random.rand(10, 36) - 0.5\n",
    "    b3 = np.random.rand(10, 1,) - 0.5\n",
    "    return  W1, b1, W2, b2, W3, b3\n",
    "\n",
    "def Sigmoid(Z):\n",
    "    return 1/(1+np.exp(-Z))\n",
    "\n",
    "def softmax(Z):\n",
    "    A = np.exp(Z) / sum(np.exp(Z))\n",
    "    return A\n",
    "\n",
    "\n",
    "\n",
    "def forward_prop(W1, b1, W2, b2, W3, b3, X):\n",
    "    Z1 = np.dot(W1, X) + b1\n",
    "    A1 = Sigmoid(Z1)\n",
    "    Z2 = np.dot(W2, A1) + b2\n",
    "    A2 = Sigmoid(Z2)\n",
    "    Z3 = np.dot(W3, A2) + b3\n",
    "    A3 = softmax(Z3)\n",
    "    return(Z1, A1, Z2, A2, Z3, A3)\n",
    "\n",
    "def Sigmoid_deriv(Z):\n",
    "    dsig = (np.exp(-Z))/((np.exp(-Z)+1)**2)\n",
    "    dsig = np.nan_to_num(dsig)\n",
    "    return dsig\n",
    "\n",
    "def one_hot(Y):\n",
    "    one_hot_Y = np.zeros((Y.size, Y.max() + 1))\n",
    "    one_hot_Y[np.arange(Y.size), Y] = 1\n",
    "    one_hot_Y = one_hot_Y.T\n",
    "    return one_hot_Y\n",
    "\n",
    "def backward_prop(Z1, A1, Z2, A2, Z3, A3, W1, W2, W3, X, Y):\n",
    "    one_hot_Y = one_hot(Y)\n",
    "    dZ3 = A3 - one_hot_Y\n",
    "    dW3 = 1/m * dZ3.dot(A2.T)\n",
    "    db3 = 1/m * np.sum(dZ3)\n",
    "    dZ2 = W3.T.dot(dZ3) * Sigmoid_deriv(Z2)\n",
    "    dW2 = 1/m * dZ2.dot(A1.T)\n",
    "    #print(dW2)\n",
    "    db2 = 1/m * np.sum(dZ2)\n",
    "    dZ1 = W2.T.dot(dZ2) * Sigmoid_deriv(Z1)\n",
    "    #print(Sigmoid_deriv(Z1))\n",
    "    #print('Hi')\n",
    "    #print(Z1)\n",
    "    dW1 = 1/m * dZ1.dot(X.T)\n",
    "    #print(dW1)\n",
    "    #zprint(dZ1)\n",
    "    db1 = 1/m * np.sum(dZ1)  \n",
    "    return(dW1, db1, dW2, db2, dW3, db3)\n",
    "\n",
    "def update_params(W1, b1, W2, b2, W3, b3, dW1, db1, dW2, db2, dW3, db3, alpha):\n",
    "    #print(W1)\n",
    "    W1 = W1 - alpha * dW1\n",
    "    b1 = b1 - alpha * db1\n",
    "    W2 = W2 - alpha * dW2\n",
    "    b2 = b2 - alpha * db2\n",
    "    W3 = W3 - alpha * dW3\n",
    "    b3 = b3 - alpha * db3\n",
    "    #print(dW1)\n",
    "    #print(dW1, dW2, dW3)\n",
    "    return W1, b1, W2, b2, W3, b3"
   ]
  },
  {
   "cell_type": "code",
   "execution_count": 5,
   "metadata": {},
   "outputs": [],
   "source": [
    "def get_predictions(A3):\n",
    "    #print(A3)\n",
    "    return np.argmax(A3,0)\n",
    "    \n",
    "\n",
    "def get_accuracy(predictions, Y):\n",
    "    #Clean\n",
    "    print(predictions, Y)\n",
    "    return np.sum(predictions == Y)/ Y.size"
   ]
  },
  {
   "cell_type": "code",
   "execution_count": 6,
   "metadata": {},
   "outputs": [],
   "source": [
    "def gradient_decent(X, Y, alpha, iterations):\n",
    "    W1, b1, W2, b2, W3, b3 = init_params()\n",
    "    for i in range(iterations):\n",
    "        Z1, A1, Z2, A2, Z3, A3 = forward_prop(W1, b1, W2, b2, W3, b3, X)\n",
    "        dW1, db1, dW2, db2, dW3, db3 = backward_prop(Z1, A1, Z2, A2, Z3, A3, W1, W2, W3, X, Y)\n",
    "        W1, b1, W2, b2, W3, b3 = update_params(W1, b1, W2, b2, W3, b3, dW1, db1, dW2, db2, dW3, db3, alpha)\n",
    "        if i % 10 == 0:\n",
    "            print(\"Iteration: \", i)\n",
    "            predictions = get_predictions(A3)\n",
    "            print(get_accuracy(predictions, Y))\n",
    "    return W1, b1, W2, b2, W3, b3"
   ]
  },
  {
   "cell_type": "code",
   "execution_count": 7,
   "metadata": {
    "scrolled": true
   },
   "outputs": [
    {
     "name": "stderr",
     "output_type": "stream",
     "text": [
      "<ipython-input-4-586ab12fcc7b>:11: RuntimeWarning: overflow encountered in exp\n",
      "  return 1/(1+np.exp(-Z))\n",
      "<ipython-input-4-586ab12fcc7b>:39: RuntimeWarning: overflow encountered in exp\n",
      "  dsig = (np.exp(-Z))/((np.exp(-Z)+1)**2)\n",
      "<ipython-input-4-586ab12fcc7b>:39: RuntimeWarning: overflow encountered in square\n",
      "  dsig = (np.exp(-Z))/((np.exp(-Z)+1)**2)\n",
      "<ipython-input-4-586ab12fcc7b>:39: RuntimeWarning: invalid value encountered in divide\n",
      "  dsig = (np.exp(-Z))/((np.exp(-Z)+1)**2)\n"
     ]
    },
    {
     "name": "stdout",
     "output_type": "stream",
     "text": [
      "Iteration:  0\n",
      "[8 6 6 ... 8 8 6] [5 0 4 ... 5 6 8]\n",
      "0.08748333333333333\n",
      "Iteration:  10\n",
      "[2 0 9 ... 7 6 3] [5 0 4 ... 5 6 8]\n",
      "0.48588333333333333\n",
      "Iteration:  20\n",
      "[3 0 4 ... 7 6 8] [5 0 4 ... 5 6 8]\n",
      "0.62995\n",
      "Iteration:  30\n",
      "[5 0 4 ... 7 6 8] [5 0 4 ... 5 6 8]\n",
      "0.70315\n",
      "Iteration:  40\n",
      "[5 0 4 ... 7 6 8] [5 0 4 ... 5 6 8]\n",
      "0.7473666666666666\n",
      "Iteration:  50\n",
      "[5 0 4 ... 7 6 8] [5 0 4 ... 5 6 8]\n",
      "0.7766833333333333\n",
      "Iteration:  60\n",
      "[3 0 4 ... 5 6 8] [5 0 4 ... 5 6 8]\n",
      "0.7993166666666667\n",
      "Iteration:  70\n",
      "[3 0 4 ... 5 6 5] [5 0 4 ... 5 6 8]\n",
      "0.81655\n",
      "Iteration:  80\n",
      "[5 0 4 ... 5 6 8] [5 0 4 ... 5 6 8]\n",
      "0.8301666666666667\n",
      "Iteration:  90\n",
      "[5 0 4 ... 5 6 5] [5 0 4 ... 5 6 8]\n",
      "0.8402666666666667\n",
      "Iteration:  100\n",
      "[5 0 4 ... 5 6 8] [5 0 4 ... 5 6 8]\n",
      "0.8484166666666667\n",
      "Iteration:  110\n",
      "[5 0 4 ... 5 6 8] [5 0 4 ... 5 6 8]\n",
      "0.8558333333333333\n",
      "Iteration:  120\n",
      "[5 0 4 ... 5 6 8] [5 0 4 ... 5 6 8]\n",
      "0.8623333333333333\n",
      "Iteration:  130\n",
      "[5 0 4 ... 5 6 8] [5 0 4 ... 5 6 8]\n",
      "0.8673833333333333\n",
      "Iteration:  140\n",
      "[5 0 4 ... 5 6 8] [5 0 4 ... 5 6 8]\n",
      "0.8722166666666666\n",
      "Iteration:  150\n",
      "[5 0 4 ... 5 6 8] [5 0 4 ... 5 6 8]\n",
      "0.8770166666666667\n",
      "Iteration:  160\n",
      "[5 0 4 ... 5 6 8] [5 0 4 ... 5 6 8]\n",
      "0.88005\n",
      "Iteration:  170\n",
      "[5 0 4 ... 5 6 8] [5 0 4 ... 5 6 8]\n",
      "0.8832666666666666\n",
      "Iteration:  180\n",
      "[5 0 4 ... 5 6 8] [5 0 4 ... 5 6 8]\n",
      "0.8864833333333333\n",
      "Iteration:  190\n",
      "[5 0 4 ... 5 6 8] [5 0 4 ... 5 6 8]\n",
      "0.8877\n",
      "Iteration:  200\n",
      "[5 0 4 ... 5 6 8] [5 0 4 ... 5 6 8]\n",
      "0.8918166666666667\n",
      "Iteration:  210\n",
      "[5 0 4 ... 5 6 8] [5 0 4 ... 5 6 8]\n",
      "0.89265\n",
      "Iteration:  220\n",
      "[5 0 4 ... 5 6 8] [5 0 4 ... 5 6 8]\n",
      "0.8950166666666667\n",
      "Iteration:  230\n",
      "[5 0 4 ... 5 6 8] [5 0 4 ... 5 6 8]\n",
      "0.8966666666666666\n",
      "Iteration:  240\n",
      "[5 0 4 ... 5 6 8] [5 0 4 ... 5 6 8]\n",
      "0.89975\n",
      "Iteration:  250\n",
      "[5 0 4 ... 5 6 8] [5 0 4 ... 5 6 8]\n",
      "0.902\n",
      "Iteration:  260\n",
      "[5 0 4 ... 5 6 8] [5 0 4 ... 5 6 8]\n",
      "0.9027166666666666\n",
      "Iteration:  270\n",
      "[5 0 4 ... 5 6 8] [5 0 4 ... 5 6 8]\n",
      "0.9047333333333333\n",
      "Iteration:  280\n",
      "[5 0 4 ... 5 6 8] [5 0 4 ... 5 6 8]\n",
      "0.9064166666666666\n",
      "Iteration:  290\n",
      "[5 0 4 ... 5 6 8] [5 0 4 ... 5 6 8]\n",
      "0.9060666666666667\n",
      "Iteration:  300\n",
      "[5 0 4 ... 5 6 8] [5 0 4 ... 5 6 8]\n",
      "0.9089833333333334\n",
      "Iteration:  310\n",
      "[5 0 4 ... 5 6 8] [5 0 4 ... 5 6 8]\n",
      "0.9098833333333334\n",
      "Iteration:  320\n",
      "[5 0 4 ... 5 6 8] [5 0 4 ... 5 6 8]\n",
      "0.9096666666666666\n",
      "Iteration:  330\n",
      "[5 0 4 ... 5 6 8] [5 0 4 ... 5 6 8]\n",
      "0.9130166666666667\n",
      "Iteration:  340\n",
      "[5 0 4 ... 5 6 8] [5 0 4 ... 5 6 8]\n",
      "0.9124166666666667\n",
      "Iteration:  350\n",
      "[5 0 4 ... 5 6 8] [5 0 4 ... 5 6 8]\n",
      "0.9138833333333334\n",
      "Iteration:  360\n",
      "[5 0 4 ... 5 6 8] [5 0 4 ... 5 6 8]\n",
      "0.9140666666666667\n",
      "Iteration:  370\n",
      "[5 0 4 ... 5 6 8] [5 0 4 ... 5 6 8]\n",
      "0.9155833333333333\n",
      "Iteration:  380\n",
      "[5 0 4 ... 5 6 8] [5 0 4 ... 5 6 8]\n",
      "0.9168833333333334\n",
      "Iteration:  390\n",
      "[5 0 4 ... 5 6 8] [5 0 4 ... 5 6 8]\n",
      "0.91755\n",
      "Iteration:  400\n",
      "[5 0 4 ... 5 6 8] [5 0 4 ... 5 6 8]\n",
      "0.9177\n",
      "Iteration:  410\n",
      "[5 0 4 ... 5 6 8] [5 0 4 ... 5 6 8]\n",
      "0.9178666666666667\n",
      "Iteration:  420\n",
      "[5 0 4 ... 5 6 8] [5 0 4 ... 5 6 8]\n",
      "0.9187666666666666\n",
      "Iteration:  430\n",
      "[5 0 4 ... 5 6 8] [5 0 4 ... 5 6 8]\n",
      "0.9206166666666666\n",
      "Iteration:  440\n",
      "[5 0 4 ... 5 6 8] [5 0 4 ... 5 6 8]\n",
      "0.9204\n",
      "Iteration:  450\n",
      "[5 0 4 ... 5 6 8] [5 0 4 ... 5 6 8]\n",
      "0.9225333333333333\n",
      "Iteration:  460\n",
      "[5 0 4 ... 5 6 8] [5 0 4 ... 5 6 8]\n",
      "0.9238666666666666\n",
      "Iteration:  470\n",
      "[5 0 4 ... 5 6 8] [5 0 4 ... 5 6 8]\n",
      "0.9243833333333333\n",
      "Iteration:  480\n",
      "[5 0 4 ... 5 6 8] [5 0 4 ... 5 6 8]\n",
      "0.9241833333333334\n",
      "Iteration:  490\n",
      "[5 0 4 ... 5 6 8] [5 0 4 ... 5 6 8]\n",
      "0.9247\n"
     ]
    }
   ],
   "source": [
    "W1, b1, W2, b2, W3, b3 = gradient_decent(train_X, train_y, 1, 500)"
   ]
  },
  {
   "cell_type": "code",
   "execution_count": 9,
   "metadata": {},
   "outputs": [],
   "source": [
    "def forward_prop(W1, b1, W2, b2, W3, b3, X):\n",
    "    Z1 = np.dot(W1, X) + b1\n",
    "    A1 = Sigmoid(Z1)\n",
    "    Z2 = np.dot(W2, A1) + b2\n",
    "    A2 = Sigmoid(Z2)\n",
    "    Z3 = np.dot(W3, A2) + b3\n",
    "    A3 = softmax(Z3)\n",
    "    return(Z1, A1, Z2, A2, Z3, A3)"
   ]
  },
  {
   "cell_type": "code",
   "execution_count": 10,
   "metadata": {
    "scrolled": true
   },
   "outputs": [
    {
     "name": "stderr",
     "output_type": "stream",
     "text": [
      "<ipython-input-4-586ab12fcc7b>:11: RuntimeWarning: overflow encountered in exp\n",
      "  return 1/(1+np.exp(-Z))\n"
     ]
    },
    {
     "ename": "ValueError",
     "evalue": "operands could not be broadcast together with shapes (10,10000) (36,1) ",
     "output_type": "error",
     "traceback": [
      "\u001b[1;31m---------------------------------------------------------------------------\u001b[0m",
      "\u001b[1;31mValueError\u001b[0m                                Traceback (most recent call last)",
      "\u001b[1;32m<ipython-input-10-58bc55730cf8>\u001b[0m in \u001b[0;36m<module>\u001b[1;34m\u001b[0m\n\u001b[1;32m----> 1\u001b[1;33m \u001b[0mZ1\u001b[0m\u001b[1;33m,\u001b[0m \u001b[0mA1\u001b[0m\u001b[1;33m,\u001b[0m \u001b[0mZ2\u001b[0m\u001b[1;33m,\u001b[0m \u001b[0mA2\u001b[0m\u001b[1;33m,\u001b[0m \u001b[0mZ3\u001b[0m\u001b[1;33m,\u001b[0m \u001b[0mA3\u001b[0m \u001b[1;33m=\u001b[0m \u001b[0mforward_prop\u001b[0m\u001b[1;33m(\u001b[0m\u001b[0mW1\u001b[0m\u001b[1;33m,\u001b[0m \u001b[0mb1\u001b[0m\u001b[1;33m,\u001b[0m \u001b[0mW2\u001b[0m\u001b[1;33m,\u001b[0m \u001b[0mb2\u001b[0m\u001b[1;33m,\u001b[0m \u001b[0mW3\u001b[0m\u001b[1;33m,\u001b[0m \u001b[0mb2\u001b[0m\u001b[1;33m,\u001b[0m \u001b[0mtest_X\u001b[0m\u001b[1;33m)\u001b[0m\u001b[1;33m\u001b[0m\u001b[1;33m\u001b[0m\u001b[0m\n\u001b[0m\u001b[0;32m      2\u001b[0m \u001b[0mprediction\u001b[0m \u001b[1;33m=\u001b[0m \u001b[0mget_prediction\u001b[0m\u001b[1;33m(\u001b[0m\u001b[0mA3\u001b[0m\u001b[1;33m)\u001b[0m\u001b[1;33m\u001b[0m\u001b[1;33m\u001b[0m\u001b[0m\n\u001b[0;32m      3\u001b[0m \u001b[0mprint\u001b[0m\u001b[1;33m(\u001b[0m\u001b[0mget_accuracy\u001b[0m\u001b[1;33m(\u001b[0m\u001b[0mget_prediction\u001b[0m\u001b[1;33m,\u001b[0m \u001b[0mtest_y\u001b[0m\u001b[1;33m)\u001b[0m\u001b[1;33m)\u001b[0m\u001b[1;33m\u001b[0m\u001b[1;33m\u001b[0m\u001b[0m\n",
      "\u001b[1;32m<ipython-input-9-380293a0cd90>\u001b[0m in \u001b[0;36mforward_prop\u001b[1;34m(W1, b1, W2, b2, W3, b3, X)\u001b[0m\n\u001b[0;32m      4\u001b[0m     \u001b[0mZ2\u001b[0m \u001b[1;33m=\u001b[0m \u001b[0mnp\u001b[0m\u001b[1;33m.\u001b[0m\u001b[0mdot\u001b[0m\u001b[1;33m(\u001b[0m\u001b[0mW2\u001b[0m\u001b[1;33m,\u001b[0m \u001b[0mA1\u001b[0m\u001b[1;33m)\u001b[0m \u001b[1;33m+\u001b[0m \u001b[0mb2\u001b[0m\u001b[1;33m\u001b[0m\u001b[1;33m\u001b[0m\u001b[0m\n\u001b[0;32m      5\u001b[0m     \u001b[0mA2\u001b[0m \u001b[1;33m=\u001b[0m \u001b[0mSigmoid\u001b[0m\u001b[1;33m(\u001b[0m\u001b[0mZ2\u001b[0m\u001b[1;33m)\u001b[0m\u001b[1;33m\u001b[0m\u001b[1;33m\u001b[0m\u001b[0m\n\u001b[1;32m----> 6\u001b[1;33m     \u001b[0mZ3\u001b[0m \u001b[1;33m=\u001b[0m \u001b[0mnp\u001b[0m\u001b[1;33m.\u001b[0m\u001b[0mdot\u001b[0m\u001b[1;33m(\u001b[0m\u001b[0mW3\u001b[0m\u001b[1;33m,\u001b[0m \u001b[0mA2\u001b[0m\u001b[1;33m)\u001b[0m \u001b[1;33m+\u001b[0m \u001b[0mb3\u001b[0m\u001b[1;33m\u001b[0m\u001b[1;33m\u001b[0m\u001b[0m\n\u001b[0m\u001b[0;32m      7\u001b[0m     \u001b[0mA3\u001b[0m \u001b[1;33m=\u001b[0m \u001b[0msoftmax\u001b[0m\u001b[1;33m(\u001b[0m\u001b[0mZ3\u001b[0m\u001b[1;33m)\u001b[0m\u001b[1;33m\u001b[0m\u001b[1;33m\u001b[0m\u001b[0m\n\u001b[0;32m      8\u001b[0m     \u001b[1;32mreturn\u001b[0m\u001b[1;33m(\u001b[0m\u001b[0mZ1\u001b[0m\u001b[1;33m,\u001b[0m \u001b[0mA1\u001b[0m\u001b[1;33m,\u001b[0m \u001b[0mZ2\u001b[0m\u001b[1;33m,\u001b[0m \u001b[0mA2\u001b[0m\u001b[1;33m,\u001b[0m \u001b[0mZ3\u001b[0m\u001b[1;33m,\u001b[0m \u001b[0mA3\u001b[0m\u001b[1;33m)\u001b[0m\u001b[1;33m\u001b[0m\u001b[1;33m\u001b[0m\u001b[0m\n",
      "\u001b[1;31mValueError\u001b[0m: operands could not be broadcast together with shapes (10,10000) (36,1) "
     ]
    }
   ],
   "source": [
    "Z1, A1, Z2, A2, Z3, A3 = forward_prop(W1, b1, W2, b2, W3, b2, test_X)\n",
    "prediction = get_prediction(A3)\n",
    "print(get_accuracy(get_prediction, test_y))"
   ]
  },
  {
   "cell_type": "code",
   "execution_count": null,
   "metadata": {},
   "outputs": [],
   "source": []
  }
 ],
 "metadata": {
  "kernelspec": {
   "display_name": "Python 3",
   "language": "python",
   "name": "python3"
  },
  "language_info": {
   "codemirror_mode": {
    "name": "ipython",
    "version": 3
   },
   "file_extension": ".py",
   "mimetype": "text/x-python",
   "name": "python",
   "nbconvert_exporter": "python",
   "pygments_lexer": "ipython3",
   "version": "3.8.3"
  }
 },
 "nbformat": 4,
 "nbformat_minor": 4
}
