{
 "cells": [
  {
   "cell_type": "markdown",
   "metadata": {},
   "source": [
    "# MNIST Neural Network From Scratch"
   ]
  },
  {
   "cell_type": "markdown",
   "metadata": {},
   "source": [
    "The goal of this short project is to train a neural network, using the MNIST dataset, using only linear algebra via Numpy. The MNIST dataset is a collection of 28x28 handwritten digits with corresponding integer values for the represented digit. The model as currently constructed can correctly identify about 90% of hand drawn digits. Using actual data science modules, accuracy well over 98% can be achieved. The data for this project can be accessed __[Here](http://yann.lecun.com/exdb/mnist/)__."
   ]
  },
  {
   "cell_type": "code",
   "execution_count": 1,
   "metadata": {},
   "outputs": [],
   "source": [
    "#Import Modules\n",
    "import numpy as np\n",
    "#numpy for all data proccessing and modeling\n",
    "from matplotlib import pyplot as plt\n",
    "#Pyplot for image generation\n",
    "from keras.datasets import mnist\n",
    "#Mnist for loading dataset"
   ]
  },
  {
   "cell_type": "code",
   "execution_count": 3,
   "metadata": {},
   "outputs": [],
   "source": [
    "(train_X, train_y), (test_X, test_y) = mnist.load_data()"
   ]
  },
  {
   "cell_type": "code",
   "execution_count": 2,
   "metadata": {},
   "outputs": [
    {
     "name": "stdout",
     "output_type": "stream",
     "text": [
      "Downloading data from https://storage.googleapis.com/tensorflow/tf-keras-datasets/mnist.npz\n",
      "11490434/11490434 [==============================] - 1s 0us/step\n"
     ]
    }
   ],
   "source": [
    "#Load and Reshape data to have 60000 columns of 784 nodes\n",
    "(train_X, train_y), (test_X, test_y) = mnist.load_data()\n",
    "#Collapse 28x28 images into 784 node columns\n",
    "train_X = np.reshape(train_X, (60000, 784))\n",
    "test_X = np.reshape(test_X, (10000, 784))\n",
    "m, n = train_X.shape\n",
    "train_X = train_X.T\n",
    "test_X = test_X.T"
   ]
  },
  {
   "cell_type": "code",
   "execution_count": 173,
   "metadata": {
    "scrolled": false
   },
   "outputs": [
    {
     "data": {
      "image/png": "[encoded data removed]",
      "text/plain": [
       "<Figure size 432x288 with 9 Axes>"
      ]
     },
     "metadata": {},
     "output_type": "display_data"
    }
   ],
   "source": [
    "#Generate random samples for analysis\n",
    "nums = np.random.randint(0, 9999, 9)\n",
    "plt.figure(1)\n",
    "for i in range(9):\n",
    "    plt.subplot(3,3,i+1)\n",
    "    plt.imshow(test_X[:,nums[i]].reshape(28,28), cmap='Greys')\n",
    "    plt.yticks([])\n",
    "    plt.xticks([])\n",
    "    plt.title('Actual:' + str(test_y[nums[i]]))\n",
    "plt.suptitle('Sample of dataset Images and Values from Test Dataset', y=1)\n",
    "plt.subplots_adjust(hspace = .5, wspace = 1.5)"
   ]
  },
  {
   "cell_type": "markdown",
   "metadata": {},
   "source": [
    "This project uses the sigmoid function as the activator and uses the softmax fuction to generate probabilities and thus predicitons. While there are functions that perform better in training than the sigmoid function, it was selected here for its ability to limit values and prevent them from exceeding the limits of float64.\n",
    "\n",
    "##### Sigmoid Function:\n",
    "\n",
    "$$\n",
    " A =  \\frac{\\mathrm{1} }{\\mathrm{1} + e^{-P} }  \n",
    "$$\n",
    "\n",
    "##### Softmax Function:\n",
    "\n",
    "$$\n",
    "A = \\frac{e^{z_{i}}}{\\sum_{j=1}^K e^{z_{j}}} \\ \\ \\ for\\ i=1,2,\\dots,K\n",
    "$$"
   ]
  },
  {
   "cell_type": "code",
   "execution_count": 143,
   "metadata": {},
   "outputs": [],
   "source": [
    "def sigmoid(Z):\n",
    "    return (1/(1+np.exp(-Z)))\n",
    "\n",
    "def softmax(Z):\n",
    "    A = np.exp(Z) / sum(np.exp(Z))\n",
    "    return A\n",
    "\n",
    "def sigmoid_deriv(Z):\n",
    "    dsig = (np.exp(-Z))/((np.exp(-Z)+1)**2)\n",
    "    #Some extremely large numbers are passed through here that give infinetesimal values. To account for problems caused by this these values are set to 0.\n",
    "    dsig = np.nan_to_num(dsig)\n",
    "    return dsig\n",
    "\n",
    "def y_col_arr(Y):\n",
    "    #Set y values to be arrays of length 10 where the solution is 1 and all other values are 0\n",
    "    y_col_array = np.zeros((Y.size, Y.max() + 1))\n",
    "    y_col_array[np.arange(Y.size), Y] = 1\n",
    "    y_col_array = y_col_array.T\n",
    "    return y_col_array\n",
    "\n",
    "def get_predictions(A3, Y):\n",
    "    #Find predicted values from probability vectors\n",
    "    predictions = np.argmax(A3,0)\n",
    "    print('Predictions:')\n",
    "    print(predictions)\n",
    "    print('Solutions:')\n",
    "    print(Y)\n",
    "    #Generate accuracy value\n",
    "    accuracy = np.sum(predictions == Y)/ Y.size\n",
    "    return accuracy, predictions"
   ]
  },
  {
   "cell_type": "code",
   "execution_count": 133,
   "metadata": {},
   "outputs": [],
   "source": [
    "def init_params():\n",
    "    #Generate initial constants as random values between -.5 and .5\n",
    "    W1 = np.random.rand(72, 784) - 0.5\n",
    "    b1 = np.random.rand(72, 1) - 0.5\n",
    "    W2 = np.random.rand(36, 72) - 0.5\n",
    "    b2 = np.random.rand(36, 1) - 0.5\n",
    "    W3 = np.random.rand(10, 36) - 0.5\n",
    "    b3 = np.random.rand(10, 1,) - 0.5\n",
    "    return (W1, b1, W2, b2, W3, b3)"
   ]
  },
  {
   "cell_type": "markdown",
   "metadata": {},
   "source": [
    "This neural network utilizes two hidden layers with 72 and 36 nodes respectively. This combination gives a good amount of accuracy without requiring too much time to run.\n",
    "\n",
    "##### Forward Propogation:\n",
    "\n",
    "$$\n",
    "Z^{[1]} = W^{[1]} X + b^{[1]}\n",
    "$$\n",
    "$$\n",
    "A^{[1]} = g_{\\text{sigmoid}}(Z^{[1]}))\n",
    "$$\n",
    "\n",
    "$$\n",
    "Z^{[2]} = W^{[2]} A^{[1]} + b^{[2]}\n",
    "$$\n",
    "$$\n",
    "A^{[2]} = g_{\\text{sigmoid}}(Z^{[2]}))\n",
    "$$\n",
    "\n",
    "$$\n",
    "Z^{[3]} = W^{[3]} A^{[2]} + b^{[3]}\n",
    "$$\n",
    "$$\n",
    "A^{[3]} = g_{\\text{softmax}}(Z^{[3]})\n",
    "$$\n",
    "\n",
    "##### Backward Propogation:\n",
    "$$\n",
    "dZ^{[3]} = A^{[3]} - Y\n",
    "$$\n",
    "$$\n",
    "dW^{[3]} = \\frac{1}{m} dZ^{[3]} A^{[2]T}\n",
    "$$\n",
    "$$\n",
    "dB^{[3]} = \\frac{1}{m} \\Sigma {dZ^{[3]}}\n",
    "$$\n",
    "\n",
    "$$\n",
    "dZ^{[2]} = W^{[3]T} dZ^{[3]} .* g^{[2]\\prime} (z^{[2]})\n",
    "$$\n",
    "$$\n",
    "dW^{[2]} = \\frac{1}{m} dZ^{[2]} A^{[1]T}\n",
    "$$\n",
    "$$\n",
    "dB^{[2]} = \\frac{1}{m} \\Sigma {dZ^{[2]}}\n",
    "$$\n",
    "\n",
    "$$\n",
    "dZ^{[1]} = W^{[2]T} dZ^{[2]} .* g^{[1]\\prime} (z^{[1]})\n",
    "$$\n",
    "$$\n",
    "dW^{[1]} = \\frac{1}{m} dZ^{[1]} A^{[0]T}\n",
    "$$\n",
    "$$\n",
    "dB^{[1]} = \\frac{1}{m} \\Sigma {dZ^{[1]}}\n",
    "$$\n",
    "\n",
    "##### Update Parameters:\n",
    "$$\n",
    "W^{[3]} = W^{[3]} - \\alpha dW^{[3]}\n",
    "$$\n",
    "$$\n",
    "b^{[3]} = b^{[3]} - \\alpha db^{[3]}\n",
    "$$\n",
    "\n",
    "$$\n",
    "W^{[2]} = W^{[2]} - \\alpha dW^{[2]}\n",
    "$$\n",
    "$$\n",
    "b^{[2]} = b^{[2]} - \\alpha db^{[2]}\n",
    "$$\n",
    "\n",
    "$$\n",
    "W^{[1]} = W^{[1]} - \\alpha dW^{[1]}\n",
    "$$\n",
    "$$\n",
    "b^{[1]} = b^{[1]} - \\alpha db^{[1]}\n",
    "$$\n",
    "\n",
    "This iterates 500 times to appropriately train the model."
   ]
  },
  {
   "cell_type": "code",
   "execution_count": 134,
   "metadata": {},
   "outputs": [],
   "source": [
    "def forward_prop(W1, b1, W2, b2, W3, b3, X):\n",
    "    #Compute node values from X data and constant values\n",
    "    Z1 = np.dot(W1, X) + b1\n",
    "    A1 = sigmoid(Z1)\n",
    "    Z2 = np.dot(W2, A1) + b2\n",
    "    A2 = sigmoid(Z2)\n",
    "    Z3 = np.dot(W3, A2) + b3\n",
    "    A3 = softmax(Z3)\n",
    "    return (Z1, A1, Z2, A2, P3, A3)\n",
    "\n",
    "def backward_prop(Z1, A1, Z2, A2, Z3, A3, W1, W2, W3, X, Y):\n",
    "    #Find gradient of cost function to determine the dW and db values that are used to adjust constants\n",
    "    y_col_arr_Y = y_col_arr(Y)\n",
    "    dZ3 = A3 - y_col_arr_Y\n",
    "    dW3 = 1/m * dZ3.dot(A2.T)\n",
    "    db3 = 1/m * np.sum(dZ3)\n",
    "    dZ2 = W3.T.dot(dZ3) * sigmoid_deriv(Z2)\n",
    "    dW2 = 1/m * dZ2.dot(A1.T)\n",
    "    db2 = 1/m * np.sum(dZ2)\n",
    "    dZ1 = W2.T.dot(dZ2) * sigmoid_deriv(Z1)\n",
    "    dW1 = 1/m * dZ1.dot(X.T)\n",
    "    db1 = 1/m * np.sum(dZ1)  \n",
    "    return (dW1, db1, dW2, db2, dW3, db3)\n",
    "\n",
    "def update_par(W1, b1, W2, b2, W3, b3, dW1, db1, dW2, db2, dW3, db3, alpha):\n",
    "    #Adjust constants based db dW and alpha\n",
    "    W1 = W1 - alpha * dW1\n",
    "    b1 = b1 - alpha * db1\n",
    "    W2 = W2 - alpha * dW2\n",
    "    b2 = b2 - alpha * db2\n",
    "    W3 = W3 - alpha * dW3\n",
    "    b3 = b3 - alpha * db3\n",
    "    return (W1, b1, W2, b2, W3, b3)"
   ]
  },
  {
   "cell_type": "code",
   "execution_count": 181,
   "metadata": {},
   "outputs": [],
   "source": [
    "import warnings\n",
    "    \n",
    "def gradient_decent(X, Y, alpha, iterations):\n",
    "    W1, b1, W2, b2, W3, b3 = init_params()\n",
    "    #Iterate through forward prop - backward prop - update par 500 times \n",
    "    for i in range(iterations):\n",
    "        warnings.filterwarnings('ignore')\n",
    "        Z1, A1, Z2, A2, Z3, A3 = forward_prop(W1, b1, W2, b2, W3, b3, X)\n",
    "        dW1, db1, dW2, db2, dW3, db3 = backward_prop(Z1, A1, Z2, A2, Z3, A3, W1, W2, W3, X, Y)\n",
    "        W1, b1, W2, b2, W3, b3 = update_par(W1, b1, W2, b2, W3, b3, dW1, db1, dW2, db2, dW3, db3, alpha)\n",
    "        if i % 25 == 0:\n",
    "            #Report status of model for every fifth iteration.\n",
    "            print('Iterations: ', i)\n",
    "            accuracy, predictions = get_predictions(A3, Y)\n",
    "            print(str(accuracy*100) + '%')\n",
    "    print('Final Accuracy')\n",
    "    accuracy, predictions = get_predictions(A3,Y)\n",
    "    print(str(accuracy*100) + '%')\n",
    "            \n",
    "\n",
    "    return (W1, b1, W2, b2, W3, b3)"
   ]
  },
  {
   "cell_type": "code",
   "execution_count": 182,
   "metadata": {
    "scrolled": true
   },
   "outputs": [
    {
     "name": "stdout",
     "output_type": "stream",
     "text": [
      "Iterations:  0\n",
      "Predictions:\n",
      "[6 6 6 ... 6 4 6]\n",
      "Solutions:\n",
      "[5 0 4 ... 5 6 8]\n",
      "10.638333333333334%\n",
      "Iterations:  25\n",
      "Predictions:\n",
      "[3 0 4 ... 3 0 1]\n",
      "Solutions:\n",
      "[5 0 4 ... 5 6 8]\n",
      "66.795%\n",
      "Iterations:  50\n",
      "Predictions:\n",
      "[5 0 4 ... 5 0 5]\n",
      "Solutions:\n",
      "[5 0 4 ... 5 6 8]\n",
      "78.38166666666667%\n",
      "Iterations:  75\n",
      "Predictions:\n",
      "[5 0 4 ... 5 0 9]\n",
      "Solutions:\n",
      "[5 0 4 ... 5 6 8]\n",
      "82.87833333333333%\n",
      "Iterations:  100\n",
      "Predictions:\n",
      "[5 0 4 ... 5 0 8]\n",
      "Solutions:\n",
      "[5 0 4 ... 5 6 8]\n",
      "85.26166666666667%\n",
      "Iterations:  125\n",
      "Predictions:\n",
      "[5 0 4 ... 5 0 8]\n",
      "Solutions:\n",
      "[5 0 4 ... 5 6 8]\n",
      "86.74833333333333%\n",
      "Iterations:  150\n",
      "Predictions:\n",
      "[5 0 4 ... 5 6 8]\n",
      "Solutions:\n",
      "[5 0 4 ... 5 6 8]\n",
      "87.84333333333333%\n",
      "Iterations:  175\n",
      "Predictions:\n",
      "[5 0 4 ... 5 6 8]\n",
      "Solutions:\n",
      "[5 0 4 ... 5 6 8]\n",
      "88.66166666666668%\n",
      "Iterations:  200\n",
      "Predictions:\n",
      "[5 0 4 ... 5 6 8]\n",
      "Solutions:\n",
      "[5 0 4 ... 5 6 8]\n",
      "89.20666666666666%\n",
      "Iterations:  225\n",
      "Predictions:\n",
      "[5 0 4 ... 5 6 8]\n",
      "Solutions:\n",
      "[5 0 4 ... 5 6 8]\n",
      "89.80333333333334%\n",
      "Iterations:  250\n",
      "Predictions:\n",
      "[5 0 4 ... 5 6 8]\n",
      "Solutions:\n",
      "[5 0 4 ... 5 6 8]\n",
      "90.32666666666667%\n",
      "Iterations:  275\n",
      "Predictions:\n",
      "[5 0 4 ... 5 6 8]\n",
      "Solutions:\n",
      "[5 0 4 ... 5 6 8]\n",
      "90.78333333333333%\n",
      "Iterations:  300\n",
      "Predictions:\n",
      "[5 0 4 ... 5 6 8]\n",
      "Solutions:\n",
      "[5 0 4 ... 5 6 8]\n",
      "90.98%\n",
      "Iterations:  325\n",
      "Predictions:\n",
      "[5 0 4 ... 5 6 8]\n",
      "Solutions:\n",
      "[5 0 4 ... 5 6 8]\n",
      "91.38833333333334%\n",
      "Iterations:  350\n",
      "Predictions:\n",
      "[5 0 4 ... 5 6 8]\n",
      "Solutions:\n",
      "[5 0 4 ... 5 6 8]\n",
      "91.60666666666667%\n",
      "Iterations:  375\n",
      "Predictions:\n",
      "[5 0 4 ... 5 6 8]\n",
      "Solutions:\n",
      "[5 0 4 ... 5 6 8]\n",
      "91.87666666666667%\n",
      "Iterations:  400\n",
      "Predictions:\n",
      "[5 0 4 ... 5 6 8]\n",
      "Solutions:\n",
      "[5 0 4 ... 5 6 8]\n",
      "92.04166666666667%\n",
      "Iterations:  425\n",
      "Predictions:\n",
      "[5 0 4 ... 5 6 8]\n",
      "Solutions:\n",
      "[5 0 4 ... 5 6 8]\n",
      "92.34166666666667%\n",
      "Iterations:  450\n",
      "Predictions:\n",
      "[5 0 4 ... 5 6 8]\n",
      "Solutions:\n",
      "[5 0 4 ... 5 6 8]\n",
      "92.35%\n",
      "Iterations:  475\n",
      "Predictions:\n",
      "[5 0 4 ... 5 6 8]\n",
      "Solutions:\n",
      "[5 0 4 ... 5 6 8]\n",
      "92.69666666666667%\n",
      "Final Accuracy\n",
      "Predictions:\n",
      "[5 0 4 ... 5 6 8]\n",
      "Solutions:\n",
      "[5 0 4 ... 5 6 8]\n",
      "92.88666666666666%\n"
     ]
    }
   ],
   "source": [
    "#Train Model\n",
    "W1, b1, W2, b2, W3, b3 = gradient_decent(train_X, train_y, 1, 500)"
   ]
  },
  {
   "cell_type": "markdown",
   "metadata": {},
   "source": [
    "92.9% accuracy on training data."
   ]
  },
  {
   "cell_type": "code",
   "execution_count": 183,
   "metadata": {
    "scrolled": true
   },
   "outputs": [
    {
     "name": "stdout",
     "output_type": "stream",
     "text": [
      "Predictions:\n",
      "[7 2 1 ... 4 5 6]\n",
      "Solutions:\n",
      "[7 2 1 ... 4 5 6]\n",
      "91.11%\n"
     ]
    }
   ],
   "source": [
    "#Test Model\n",
    "Z1, A1, Z2, A2, Z3, A3 = forward_prop(W1, b1, W2, b2, W3, b3, test_X)\n",
    "accuracy, predictions = get_predictions(A3, test_y)\n",
    "print(str(accuracy*100) + '%')"
   ]
  },
  {
   "cell_type": "markdown",
   "metadata": {},
   "source": [
    "91.1% accuracy on test data."
   ]
  },
  {
   "cell_type": "code",
   "execution_count": 184,
   "metadata": {
    "scrolled": true
   },
   "outputs": [
    {
     "data": {
      "image/png": "[encoded data removed]",
      "text/plain": [
       "<Figure size 432x288 with 9 Axes>"
      ]
     },
     "metadata": {},
     "output_type": "display_data"
    }
   ],
   "source": [
    "plt.figure(1)\n",
    "for i in range(9):\n",
    "    plt.subplot(3,3,i+1)\n",
    "    plt.imshow(test_X[:,nums[i]].reshape(28,28), cmap='Greys')\n",
    "    plt.yticks([])\n",
    "    plt.xticks([])\n",
    "    plt.title('Actual:' + str(test_y[nums[i]]) + '  Prediction:' + str(predictions[nums[i]]))\n",
    "plt.suptitle(\"Sample of dataset Images and Values from Test Dataset With Predictions\", y=1)\n",
    "plt.subplots_adjust(hspace = .5, wspace = 1.5)"
   ]
  },
  {
   "cell_type": "markdown",
   "metadata": {},
   "source": [
    "Here you can see examples of the numbers that the model correctly identifies and one example of a 2 which it guesses is a 9. "
   ]
  },
  {
   "cell_type": "markdown",
   "metadata": {},
   "source": [
    "By using only numpy, linear algebra, and multivariable calculus this neural network is able to estimate digits from hand drawn images 91.1% of the time. With more tinkering or more training data its possible this neural network could be more accurate, but considering its limited resources 91.1% is a respectable success rate."
   ]
  },
  {
   "cell_type": "markdown",
   "metadata": {},
   "source": [
    "## But what about convolution?"
   ]
  },
  {
   "cell_type": "markdown",
   "metadata": {},
   "source": [
    "Convolutional layers are often used in computer vision tasks because they can drastically improve the performance of a neural network. Below we will apply a single convolutional layer to try and increase the accuracy of our model."
   ]
  },
  {
   "cell_type": "markdown",
   "metadata": {},
   "source": [
    "Steps:\n",
    "    convolution forward pass\n",
    "    max pool forward pass\n",
    "    flatten forward pass\n",
    "\n",
    "    convolution back prop\n",
    "    max pool back prop\n",
    "    flatten back prop\n",
    "    new loop"
   ]
  },
  {
   "cell_type": "code",
   "execution_count": 4,
   "metadata": {},
   "outputs": [
    {
     "name": "stdout",
     "output_type": "stream",
     "text": [
      "(60000, 28, 28)\n"
     ]
    }
   ],
   "source": [
    "print(np.shape(train_X))"
   ]
  },
  {
   "cell_type": "code",
   "execution_count": 27,
   "metadata": {},
   "outputs": [
    {
     "name": "stdout",
     "output_type": "stream",
     "text": [
      "26.0\n"
     ]
    }
   ],
   "source": [
    "nin = 28\n",
    "padding = 0\n",
    "kernel_size = 3\n",
    "stride = 1\n",
    "nout = ((nin + padding - kernel_size)/stride) + 1\n",
    "print(nout)\n"
   ]
  },
  {
   "cell_type": "code",
   "execution_count": 38,
   "metadata": {},
   "outputs": [
    {
     "name": "stdout",
     "output_type": "stream",
     "text": [
      "[[ 1  1  1]\n",
      " [ 0  0  0]\n",
      " [-1 -1 -1]]\n"
     ]
    }
   ],
   "source": [
    "print(initial_filter)"
   ]
  },
  {
   "cell_type": "code",
   "execution_count": 52,
   "metadata": {},
   "outputs": [
    {
     "data": {
      "text/plain": [
       "<matplotlib.colorbar.Colorbar at 0x147376c80>"
      ]
     },
     "execution_count": 52,
     "metadata": {},
     "output_type": "execute_result"
    },
    {
     "data": {
      "image/png": "[encoded data removed]",
      "text/plain": [
       "<Figure size 640x480 with 2 Axes>"
      ]
     },
     "metadata": {},
     "output_type": "display_data"
    },
    {
     "data": {
      "image/png": "[encoded data removed]",
      "text/plain": [
       "<Figure size 640x480 with 8 Axes>"
      ]
     },
     "metadata": {},
     "output_type": "display_data"
    }
   ],
   "source": [
    "test_image = train_X[0,:,:]\n",
    "plt.figure(1)\n",
    "plt.pcolormesh(test_image, cmap='Greys')\n",
    "plt.colorbar()\n",
    "#initial_filter = np.ones((3,3))\n",
    "#initial_filter[:,:] = .5\n",
    "sharpen = np.array([[0, -1, 0], [-1, 5, -1], [0, -1, 0]])\n",
    "gaussian_blur = (1/16)*np.array([[1, 2, 1], [2, 4, 2], [1, 2, 1]])\n",
    "edge_detection = np.array([[-1, -2, -1], [0, 0, 0], [1, 2, 1]])\n",
    "random_filter = np.random.randint(-3, 3, (3, 3))\n",
    "sharpened_image = np.zeros((26, 26))\n",
    "blured_image = np.zeros((26, 26))\n",
    "edge_detected_image = np.zeros((26, 26))\n",
    "random_filtered_image = np.zeros((26, 26))\n",
    "\n",
    "for i in range(26):\n",
    "    for j in range(26):\n",
    "        im_sect = test_image[i:i+3, j:j+3]\n",
    "        #print(i, j)\n",
    "        sharpened_image[i, j] = np.sum(im_sect * sharpen)\n",
    "        blured_image[i, j] = np.sum(im_sect * gaussian_blur)\n",
    "        edge_detected_image[i, j] = np.sum(im_sect * edge_detection)\n",
    "        random_filtered_image[i, j] = np.sum(im_sect * random_filter)\n",
    "\n",
    "plt.figure(2)\n",
    "plt.subplot(221)\n",
    "plt.pcolormesh(sharpened_image, cmap='Greys')\n",
    "plt.xticks([])\n",
    "plt.yticks([])\n",
    "plt.title('Sharpen')\n",
    "plt.colorbar()\n",
    "plt.subplot(222)\n",
    "plt.pcolormesh(blured_image, cmap='Greys')\n",
    "plt.xticks([])\n",
    "plt.yticks([])\n",
    "plt.title('Gaussian Blur')\n",
    "plt.colorbar()\n",
    "plt.subplot(223)\n",
    "plt.pcolormesh(edge_detected_image, cmap='Greys')\n",
    "plt.xticks([])\n",
    "plt.yticks([])\n",
    "plt.title('Edge Detect')\n",
    "plt.colorbar()\n",
    "plt.subplot(224)\n",
    "plt.pcolormesh(random_filtered_image, cmap='Greys')\n",
    "plt.xticks([])\n",
    "plt.yticks([])\n",
    "plt.title('Random')\n",
    "plt.colorbar()\n"
   ]
  },
  {
   "cell_type": "code",
   "execution_count": 11,
   "metadata": {},
   "outputs": [
    {
     "data": {
      "text/plain": [
       "1024"
      ]
     },
     "execution_count": 11,
     "metadata": {},
     "output_type": "execute_result"
    }
   ],
   "source": [
    "32*32"
   ]
  },
  {
   "cell_type": "code",
   "execution_count": null,
   "metadata": {},
   "outputs": [],
   "source": []
  }
 ],
 "metadata": {
  "kernelspec": {
   "display_name": "Python 3.11.0 ('nn_scratch')",
   "language": "python",
   "name": "python3"
  },
  "language_info": {
   "codemirror_mode": {
    "name": "ipython",
    "version": 3
   },
   "file_extension": ".py",
   "mimetype": "text/x-python",
   "name": "python",
   "nbconvert_exporter": "python",
   "pygments_lexer": "ipython3",
   "version": "3.10.8"
  },
  "vscode": {
   "interpreter": {
    "hash": "8fd3af7bf790bd02b0d4d6b7014ec1ab0c3ea6566466f599f7395663d7cbeabc"
   }
  }
 },
 "nbformat": 4,
 "nbformat_minor": 4
}
